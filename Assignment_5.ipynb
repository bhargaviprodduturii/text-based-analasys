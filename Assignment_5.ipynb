{
 "cells": [
  {
   "cell_type": "markdown",
   "id": "cd808ed2-1556-4e2a-aa65-2f229df96347",
   "metadata": {},
   "source": [
    "## Read the Dataset"
   ]
  },
  {
   "cell_type": "code",
   "execution_count": 24,
   "id": "7f326148-fcb3-4564-a8f2-ef4a15d7f4ef",
   "metadata": {},
   "outputs": [
    {
     "data": {
      "text/html": [
       "<div>\n",
       "<style scoped>\n",
       "    .dataframe tbody tr th:only-of-type {\n",
       "        vertical-align: middle;\n",
       "    }\n",
       "\n",
       "    .dataframe tbody tr th {\n",
       "        vertical-align: top;\n",
       "    }\n",
       "\n",
       "    .dataframe thead th {\n",
       "        text-align: right;\n",
       "    }\n",
       "</style>\n",
       "<table border=\"1\" class=\"dataframe\">\n",
       "  <thead>\n",
       "    <tr style=\"text-align: right;\">\n",
       "      <th></th>\n",
       "      <th>Text</th>\n",
       "      <th>label</th>\n",
       "    </tr>\n",
       "  </thead>\n",
       "  <tbody>\n",
       "    <tr>\n",
       "      <th>4123</th>\n",
       "      <td>like a lot of the other reviews say, I was abl...</td>\n",
       "      <td>0</td>\n",
       "    </tr>\n",
       "    <tr>\n",
       "      <th>10617</th>\n",
       "      <td>i downloaded this app and it would not open  c...</td>\n",
       "      <td>0</td>\n",
       "    </tr>\n",
       "    <tr>\n",
       "      <th>19861</th>\n",
       "      <td>Well done teamlava! This is a todaly awesome g...</td>\n",
       "      <td>1</td>\n",
       "    </tr>\n",
       "    <tr>\n",
       "      <th>17836</th>\n",
       "      <td>My wife, who is an avid quilter saw this progr...</td>\n",
       "      <td>1</td>\n",
       "    </tr>\n",
       "    <tr>\n",
       "      <th>11116</th>\n",
       "      <td>So awesome I was at his mercy or at least I th...</td>\n",
       "      <td>1</td>\n",
       "    </tr>\n",
       "    <tr>\n",
       "      <th>8570</th>\n",
       "      <td>great for occasions such as road trips where y...</td>\n",
       "      <td>1</td>\n",
       "    </tr>\n",
       "    <tr>\n",
       "      <th>6970</th>\n",
       "      <td>I love reading my horoscope everyday...its won...</td>\n",
       "      <td>1</td>\n",
       "    </tr>\n",
       "    <tr>\n",
       "      <th>14763</th>\n",
       "      <td>You better be prepared when you play this &amp;#34...</td>\n",
       "      <td>1</td>\n",
       "    </tr>\n",
       "    <tr>\n",
       "      <th>7682</th>\n",
       "      <td>Tried this with my dogs... the corgi completel...</td>\n",
       "      <td>0</td>\n",
       "    </tr>\n",
       "    <tr>\n",
       "      <th>7435</th>\n",
       "      <td>The King James Version is the best book ever w...</td>\n",
       "      <td>1</td>\n",
       "    </tr>\n",
       "  </tbody>\n",
       "</table>\n",
       "</div>"
      ],
      "text/plain": [
       "                                                    Text  label\n",
       "4123   like a lot of the other reviews say, I was abl...      0\n",
       "10617  i downloaded this app and it would not open  c...      0\n",
       "19861  Well done teamlava! This is a todaly awesome g...      1\n",
       "17836  My wife, who is an avid quilter saw this progr...      1\n",
       "11116  So awesome I was at his mercy or at least I th...      1\n",
       "8570   great for occasions such as road trips where y...      1\n",
       "6970   I love reading my horoscope everyday...its won...      1\n",
       "14763  You better be prepared when you play this &#34...      1\n",
       "7682   Tried this with my dogs... the corgi completel...      0\n",
       "7435   The King James Version is the best book ever w...      1"
      ]
     },
     "execution_count": 24,
     "metadata": {},
     "output_type": "execute_result"
    }
   ],
   "source": [
    "import pandas as pd\n",
    "\n",
    "# Assuming \"Amazonnn.csv\" is a CSV file\n",
    "df = pd.read_csv(\"C:\\\\Users\\\\pbhar\\\\Downloads\\\\new\\\\Amazonnn.csv\")\n",
    "\n",
    "# Display a random sample of 10 rows from the DataFrame\n",
    "df.sample(10)\n"
   ]
  },
  {
   "cell_type": "markdown",
   "id": "8597a6ca-026c-4be8-a085-6ff471c7ce56",
   "metadata": {},
   "source": [
    "## Get the Bing Liu lexicon"
   ]
  },
  {
   "cell_type": "code",
   "execution_count": 8,
   "id": "c6558813-1727-4873-8981-76c9d3346491",
   "metadata": {},
   "outputs": [
    {
     "name": "stdout",
     "output_type": "stream",
     "text": [
      "Total number of words in opinion lexicon 6789\n",
      "Examples of positive words in opinion lexicon ['a+', 'abound', 'abounds', 'abundance', 'abundant', 'accessable', 'accessible', 'acclaim', 'acclaimed', 'acclamation']\n",
      "Examples of negative words in opinion lexicon ['2-faced', '2-faces', 'abnormal', 'abolish', 'abominable', 'abominably', 'abominate', 'abomination', 'abort', 'aborted']\n"
     ]
    },
    {
     "name": "stderr",
     "output_type": "stream",
     "text": [
      "[nltk_data] Downloading package opinion_lexicon to\n",
      "[nltk_data]     C:\\Users\\pbhar\\AppData\\Roaming\\nltk_data...\n",
      "[nltk_data]   Package opinion_lexicon is already up-to-date!\n"
     ]
    }
   ],
   "source": [
    "import nltk\n",
    "\n",
    "# Download the opinion lexicon \n",
    "nltk.download('opinion_lexicon')\n",
    "\n",
    "# Import the opinion lexicon and word tokenizer\n",
    "from nltk.corpus import opinion_lexicon\n",
    "from nltk.tokenize import word_tokenize\n",
    "\n",
    "# Print some information about the opinion lexicon\n",
    "print('Total number of words in opinion lexicon:', len(opinion_lexicon.words()))\n",
    "print('Examples of positive words in opinion lexicon:', opinion_lexicon.positive()[:10])\n",
    "print('Examples of negative words in opinion lexicon:', opinion_lexicon.negative()[:10])\n"
   ]
  },
  {
   "cell_type": "markdown",
   "id": "e6ea6a4d-bd1f-4d4c-977a-64b9a53ff3a3",
   "metadata": {},
   "source": [
    "## Create the “Dictionary\""
   ]
  },
  {
   "cell_type": "code",
   "execution_count": 25,
   "id": "5fafbf1f-89fc-4276-bbb4-ff5112e14845",
   "metadata": {},
   "outputs": [
    {
     "name": "stderr",
     "output_type": "stream",
     "text": [
      "[nltk_data] Downloading package punkt to\n",
      "[nltk_data]     C:\\Users\\pbhar\\AppData\\Roaming\\nltk_data...\n",
      "[nltk_data]   Package punkt is already up-to-date!\n"
     ]
    }
   ],
   "source": [
    "# Let's create a dictionary which we can use for scoring our review text\n",
    "nltk.download('punkt')\n",
    "df.rename(columns={\"reviewText\": \"text\"}, inplace=True)\n",
    "pos_score = 1\n",
    "neg_score = -1\n",
    "word_dict = {}\n",
    " \n",
    "# Adding the positive words to the dictionary\n",
    "for word in opinion_lexicon.positive():\n",
    "        word_dict[word] = pos_score\n",
    "      \n",
    "# Adding the negative words to the dictionary\n",
    "for word in opinion_lexicon.negative():\n",
    "        word_dict[word] = neg_score\n"
   ]
  },
  {
   "cell_type": "markdown",
   "id": "351c981e-a6f6-4a48-b354-822dc7133d4c",
   "metadata": {},
   "source": [
    "## Function to do the math"
   ]
  },
  {
   "cell_type": "code",
   "execution_count": 26,
   "id": "6fd297cd-9880-44ec-9642-4cfe40beb18f",
   "metadata": {},
   "outputs": [],
   "source": [
    "# Function to calculate sentiment score using Bing Liu lexicon\n",
    "def bing_liu_score(text):\n",
    "# Initialize sentiment score to 0\n",
    "    sentiment_score = 0\n",
    "# Tokenize text into words and convert to lowercase\n",
    "    bag_of_words = word_tokenize(text.lower())\n",
    "# Iterate through each word in the bag of words\n",
    "    for word in bag_of_words:\n",
    "        if word in word_dict:\n",
    "            sentiment_score += word_dict[word]\n",
    "# Return total sentiment score\n",
    "    return sentiment_score  \n"
   ]
  },
  {
   "cell_type": "markdown",
   "id": "71a596f1-cce6-4748-a890-030e3c176df2",
   "metadata": {},
   "source": [
    "## Fill missing values in 'Text'\r\n"
   ]
  },
  {
   "cell_type": "code",
   "execution_count": 29,
   "id": "0f6f5c38-4c1f-49fa-ab59-db71e68fd340",
   "metadata": {},
   "outputs": [],
   "source": [
    "# Fill missing values in the 'text' column with 'no review'\n",
    "df['Text'].fillna('no review', inplace=True)\n",
    "\n",
    "# Apply the bing_liu_score function to calculate sentiment scores for each text in the 'text' column\n",
    "df['Bing_Liu_Score'] = df['Text'].apply(bing_liu_score)\n"
   ]
  },
  {
   "cell_type": "code",
   "execution_count": 30,
   "id": "0a3329d8-f0f4-4b09-a64a-88073a044294",
   "metadata": {},
   "outputs": [
    {
     "data": {
      "text/html": [
       "<div>\n",
       "<style scoped>\n",
       "    .dataframe tbody tr th:only-of-type {\n",
       "        vertical-align: middle;\n",
       "    }\n",
       "\n",
       "    .dataframe tbody tr th {\n",
       "        vertical-align: top;\n",
       "    }\n",
       "\n",
       "    .dataframe thead th {\n",
       "        text-align: right;\n",
       "    }\n",
       "</style>\n",
       "<table border=\"1\" class=\"dataframe\">\n",
       "  <thead>\n",
       "    <tr style=\"text-align: right;\">\n",
       "      <th></th>\n",
       "      <th>label</th>\n",
       "      <th>Text</th>\n",
       "      <th>Bing_Liu_Score</th>\n",
       "    </tr>\n",
       "  </thead>\n",
       "  <tbody>\n",
       "    <tr>\n",
       "      <th>0</th>\n",
       "      <td>1</td>\n",
       "      <td>This is  the best apps acording to a bunch of ...</td>\n",
       "      <td>-1</td>\n",
       "    </tr>\n",
       "    <tr>\n",
       "      <th>1</th>\n",
       "      <td>1</td>\n",
       "      <td>This is a pretty good version of the game for ...</td>\n",
       "      <td>4</td>\n",
       "    </tr>\n",
       "    <tr>\n",
       "      <th>2</th>\n",
       "      <td>1</td>\n",
       "      <td>this is a really . there are a bunch of levels...</td>\n",
       "      <td>3</td>\n",
       "    </tr>\n",
       "    <tr>\n",
       "      <th>3</th>\n",
       "      <td>1</td>\n",
       "      <td>This is a silly game and can be frustrating, b...</td>\n",
       "      <td>1</td>\n",
       "    </tr>\n",
       "    <tr>\n",
       "      <th>4</th>\n",
       "      <td>1</td>\n",
       "      <td>This is a terrific game on any pad. Hrs of fun...</td>\n",
       "      <td>4</td>\n",
       "    </tr>\n",
       "    <tr>\n",
       "      <th>5</th>\n",
       "      <td>1</td>\n",
       "      <td>This is a very entertaining game!  You don't h...</td>\n",
       "      <td>4</td>\n",
       "    </tr>\n",
       "    <tr>\n",
       "      <th>6</th>\n",
       "      <td>1</td>\n",
       "      <td>this is awesome and you don't need wi ti to pl...</td>\n",
       "      <td>2</td>\n",
       "    </tr>\n",
       "    <tr>\n",
       "      <th>7</th>\n",
       "      <td>1</td>\n",
       "      <td>this is awesome I bet no one even reads the re...</td>\n",
       "      <td>2</td>\n",
       "    </tr>\n",
       "    <tr>\n",
       "      <th>8</th>\n",
       "      <td>1</td>\n",
       "      <td>This is basicly the free version but with ads....</td>\n",
       "      <td>2</td>\n",
       "    </tr>\n",
       "    <tr>\n",
       "      <th>9</th>\n",
       "      <td>1</td>\n",
       "      <td>this is by far the best free app that is avail...</td>\n",
       "      <td>3</td>\n",
       "    </tr>\n",
       "  </tbody>\n",
       "</table>\n",
       "</div>"
      ],
      "text/plain": [
       "   label                                               Text  Bing_Liu_Score\n",
       "0      1  This is  the best apps acording to a bunch of ...              -1\n",
       "1      1  This is a pretty good version of the game for ...               4\n",
       "2      1  this is a really . there are a bunch of levels...               3\n",
       "3      1  This is a silly game and can be frustrating, b...               1\n",
       "4      1  This is a terrific game on any pad. Hrs of fun...               4\n",
       "5      1  This is a very entertaining game!  You don't h...               4\n",
       "6      1  this is awesome and you don't need wi ti to pl...               2\n",
       "7      1  this is awesome I bet no one even reads the re...               2\n",
       "8      1  This is basicly the free version but with ads....               2\n",
       "9      1  this is by far the best free app that is avail...               3"
      ]
     },
     "execution_count": 30,
     "metadata": {},
     "output_type": "execute_result"
    }
   ],
   "source": [
    "# Display the first 10 rows of the DataFrame with columns 'label', 'Text', and 'Bing_Liu_Score'\n",
    "df[['label', \"Text\", 'Bing_Liu_Score']].head(10)"
   ]
  },
  {
   "cell_type": "markdown",
   "id": "9ac57416-db15-4f34-89ad-58c265b4ac69",
   "metadata": {},
   "source": [
    "## Output"
   ]
  },
  {
   "cell_type": "code",
   "execution_count": 31,
   "id": "971681a2-0b67-40f1-aabe-e088a1b991db",
   "metadata": {},
   "outputs": [
    {
     "data": {
      "text/html": [
       "<div>\n",
       "<style scoped>\n",
       "    .dataframe tbody tr th:only-of-type {\n",
       "        vertical-align: middle;\n",
       "    }\n",
       "\n",
       "    .dataframe tbody tr th {\n",
       "        vertical-align: top;\n",
       "    }\n",
       "\n",
       "    .dataframe thead th {\n",
       "        text-align: right;\n",
       "    }\n",
       "</style>\n",
       "<table border=\"1\" class=\"dataframe\">\n",
       "  <thead>\n",
       "    <tr style=\"text-align: right;\">\n",
       "      <th></th>\n",
       "      <th>Bing_Liu_Score</th>\n",
       "    </tr>\n",
       "    <tr>\n",
       "      <th>label</th>\n",
       "      <th></th>\n",
       "    </tr>\n",
       "  </thead>\n",
       "  <tbody>\n",
       "    <tr>\n",
       "      <th>0</th>\n",
       "      <td>-0.065044</td>\n",
       "    </tr>\n",
       "    <tr>\n",
       "      <th>1</th>\n",
       "      <td>2.067892</td>\n",
       "    </tr>\n",
       "  </tbody>\n",
       "</table>\n",
       "</div>"
      ],
      "text/plain": [
       "       Bing_Liu_Score\n",
       "label                \n",
       "0           -0.065044\n",
       "1            2.067892"
      ]
     },
     "execution_count": 31,
     "metadata": {},
     "output_type": "execute_result"
    }
   ],
   "source": [
    "# Group the DataFrame by 'label' and calculate the mean of 'Bing_Liu_Score' for each group\n",
    "df.groupby('label').agg({'Bing_Liu_Score': 'mean'})\n"
   ]
  },
  {
   "cell_type": "code",
   "execution_count": null,
   "id": "c73767c9-9db1-43bf-8774-cad379250867",
   "metadata": {},
   "outputs": [],
   "source": []
  }
 ],
 "metadata": {
  "kernelspec": {
   "display_name": "Python 3 (ipykernel)",
   "language": "python",
   "name": "python3"
  },
  "language_info": {
   "codemirror_mode": {
    "name": "ipython",
    "version": 3
   },
   "file_extension": ".py",
   "mimetype": "text/x-python",
   "name": "python",
   "nbconvert_exporter": "python",
   "pygments_lexer": "ipython3",
   "version": "3.11.7"
  }
 },
 "nbformat": 4,
 "nbformat_minor": 5
}
