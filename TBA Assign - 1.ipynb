{
 "cells": [
  {
   "cell_type": "code",
   "execution_count": 1,
   "id": "732e03e7",
   "metadata": {},
   "outputs": [
    {
     "name": "stdout",
     "output_type": "stream",
     "text": [
      "Bhargavi\n"
     ]
    }
   ],
   "source": [
    "# Basic String Operation\n",
    "\n",
    "#Assigning string 'Hello' to variable a\n",
    "a = \"Bhargavi\"\n",
    "\n",
    "#Printing the value of variable a\n",
    "print(a)"
   ]
  },
  {
   "cell_type": "code",
   "execution_count": 2,
   "id": "bce8cc45",
   "metadata": {},
   "outputs": [
    {
     "name": "stdout",
     "output_type": "stream",
     "text": [
      "r\n",
      "i\n"
     ]
    }
   ],
   "source": [
    "## String Indexing\n",
    "\n",
    "#Assigning string \"Bhargavi\" to variable name\n",
    "name = \"Bhargavi\"\n",
    "\n",
    "#Printing the index of 0 of variable name\n",
    "print(name[3])\n",
    "\n",
    "#Printing the index of -1 of variable name\n",
    "print(name[-1])"
   ]
  },
  {
   "cell_type": "code",
   "execution_count": 4,
   "id": "dbca1373",
   "metadata": {},
   "outputs": [
    {
     "name": "stdout",
     "output_type": "stream",
     "text": [
      "8\n"
     ]
    }
   ],
   "source": [
    "\n",
    "## String Length\n",
    "\n",
    "#Assigning \"Bhargavi\" to variable name\n",
    "name = \"Bhargavi\"\n",
    "\n",
    "#Printing the length of the name\n",
    "print(len(name))"
   ]
  },
  {
   "cell_type": "code",
   "execution_count": 3,
   "id": "5656c01f",
   "metadata": {},
   "outputs": [
    {
     "name": "stdout",
     "output_type": "stream",
     "text": [
      "Proddutur\n",
      "uturi Bhargavi\n"
     ]
    }
   ],
   "source": [
    "## String Slicing\n",
    "\n",
    "#Assigning string 'Prodduturi Bhargavi' to variable name\n",
    "name = \"Prodduturi Bhargavi\"\n",
    "\n",
    "#Printing the substring of the variable name from index 0 to index 9\n",
    "print(name[0:9])\n",
    "\n",
    "#Printing the substring of the variable name from index 5 to the end\n",
    "print(name[5:])"
   ]
  },
  {
   "cell_type": "code",
   "execution_count": 7,
   "id": "e9996ef6",
   "metadata": {},
   "outputs": [
    {
     "name": "stdout",
     "output_type": "stream",
     "text": [
      "bhargavi\n"
     ]
    }
   ],
   "source": [
    "## String Concatenation\n",
    "\n",
    "#Assigning string 'bhar' to variable first_name\n",
    "first_name = \"bhar\"\n",
    "\n",
    "#Assigning string 'gavi' to variable last_name\n",
    "last_name = \"gavi\"\n",
    "\n",
    "#Concatenating first_name and last_name to variable full_name\n",
    "full_name = first_name  + last_name\n",
    "\n",
    "#Printing the value of a variable full_name\n",
    "print(full_name)"
   ]
  },
  {
   "cell_type": "code",
   "execution_count": 5,
   "id": "b4d4ce39",
   "metadata": {},
   "outputs": [
    {
     "name": "stdout",
     "output_type": "stream",
     "text": [
      "Bharp\n"
     ]
    }
   ],
   "source": [
    "## String replace\n",
    "\n",
    "#Assigning \"Bhargavi\" to variable name\n",
    "name = \"Bhargavi\"\n",
    "\n",
    "#Using replace(old, new) to replace new with the old\n",
    "print(name.replace(\"gavi\", \"p\"))"
   ]
  },
  {
   "cell_type": "code",
   "execution_count": 8,
   "id": "11bd92f0",
   "metadata": {},
   "outputs": [
    {
     "name": "stdout",
     "output_type": "stream",
     "text": [
      "True\n",
      "False\n"
     ]
    }
   ],
   "source": [
    "## String Method - isspace()\n",
    "\n",
    "#Assigning string ' ' to a variable name\n",
    "name = ' '\n",
    "\n",
    "#Using isspace() to check if all the characters in the string contains spaces or not\n",
    "print(name.isspace())\n",
    "\n",
    "#Assigning string 'Bhargavi' to a variable name\n",
    "name = 'Bhargavi'\n",
    "\n",
    "#Using isspace() to check if all the characters in the string contains spaces or not\n",
    "print(name.isspace())"
   ]
  },
  {
   "cell_type": "code",
   "execution_count": 10,
   "id": "4739dc17",
   "metadata": {},
   "outputs": [
    {
     "name": "stdout",
     "output_type": "stream",
     "text": [
      "True\n",
      "False\n"
     ]
    }
   ],
   "source": [
    "\n",
    "## String Method - isalnum()\n",
    "\n",
    "#Assigning string 'bhar' to a variable name\n",
    "name = \"Bhar\"\n",
    "\n",
    "#Using isalnum() to check all the above characters in the string are alphanumeric or not\n",
    "print(name.isalnum())\n",
    "\n",
    "#Assigning string 'bhar 1512' to a variable name\n",
    "name = \"bhar 1512\"\n",
    "\n",
    "#Using isalnum() to check all the above characters in the string are alphanumeric or not\n",
    "print(name.isalnum())"
   ]
  },
  {
   "cell_type": "code",
   "execution_count": 11,
   "id": "53e44c1b",
   "metadata": {},
   "outputs": [
    {
     "name": "stdout",
     "output_type": "stream",
     "text": [
      "True\n",
      "False\n"
     ]
    }
   ],
   "source": [
    "## String Method - isalpha()\n",
    "\n",
    "#Assigning string 'bhar' to a variable name\n",
    "name = \"bhar\"\n",
    "\n",
    "#Using isalpha() to check all the characters in the string are alphabetic or not\n",
    "print(name.isalpha())\n",
    "\n",
    "#Assigning string 'puppy12' to a variable name\n",
    "name = \"puppy12\"\n",
    "\n",
    "#Using isalpha() to check all the characters in the string are alphabetic or not\n",
    "print(name.isalpha())\n"
   ]
  },
  {
   "cell_type": "code",
   "execution_count": 13,
   "id": "f351e787",
   "metadata": {},
   "outputs": [
    {
     "name": "stdout",
     "output_type": "stream",
     "text": [
      "True\n"
     ]
    }
   ],
   "source": [
    "## String Method - isdigit()\n",
    "\n",
    "#Assigning string '1512' to a variable name\n",
    "name = \"1512\"\n",
    "\n",
    "#Using isdigit() to check all the characters in the string are digits\n",
    "print(name.isdigit())\n",
    "\n"
   ]
  },
  {
   "cell_type": "code",
   "execution_count": 14,
   "id": "46f32925",
   "metadata": {},
   "outputs": [
    {
     "name": "stdout",
     "output_type": "stream",
     "text": [
      "4\n",
      "7\n"
     ]
    }
   ],
   "source": [
    "## String Method - find(substring)\n",
    "\n",
    "#Assigning string 'bhargavi prodduturi' to a variable name\n",
    "name = 'Bhargavi prodduturi'\n",
    "\n",
    "#Using find(char) to return the lowest index of the character\n",
    "print(name.find('gavi'))\n",
    "\n",
    "#Using find(char) to return the lowest index of the character\n",
    "print(name.find('i'))"
   ]
  },
  {
   "cell_type": "code",
   "execution_count": 15,
   "id": "5dc202d8",
   "metadata": {},
   "outputs": [
    {
     "name": "stdout",
     "output_type": "stream",
     "text": [
      "['bhar', ' puppy', ' bindu', ' ashu', ' aishu']\n"
     ]
    }
   ],
   "source": [
    "## Splitting\n",
    "\n",
    "#Assigning string 'bhar, puppy, bindu, ashu, aishu' to a variable name\n",
    "name = \"bhar, puppy, bindu, ashu, aishu\"\n",
    "\n",
    "#Returns a list containing the words in the string\n",
    "print(name.split(','))\n"
   ]
  },
  {
   "cell_type": "code",
   "execution_count": 16,
   "id": "73867cd9",
   "metadata": {},
   "outputs": [
    {
     "name": "stdout",
     "output_type": "stream",
     "text": [
      "bhargavi\n"
     ]
    }
   ],
   "source": [
    "## String Method - lower()\n",
    "\n",
    "#Assigning string 'Bhargavi' to a variable name\n",
    "name = 'Bhargavi'\n",
    "\n",
    "#Converts the string into lowercase\n",
    "print(name.lower())"
   ]
  },
  {
   "cell_type": "code",
   "execution_count": 17,
   "id": "251e2968",
   "metadata": {},
   "outputs": [
    {
     "name": "stdout",
     "output_type": "stream",
     "text": [
      "['The', 'fox', 'the', 'dog']\n"
     ]
    }
   ],
   "source": [
    "## Regex-1: Matches any character except \\n\n",
    "\n",
    "\n",
    "import re\n",
    " # import the regular expression module\n",
    "\n",
    "def tokenize(text):\n",
    "    # # import the regular expression module\n",
    "    matches = re.finditer(r'\\b\\w{3}\\b', text)\n",
    "    tokens = [match.group() for match in matches]\n",
    "    return tokens\n",
    "\n",
    "text = \"The quick brown fox jumps over the lazy dog.\"\n",
    "x = tokenize(text)\n",
    "print(x)"
   ]
  },
  {
   "cell_type": "code",
   "execution_count": 22,
   "id": "7be62878",
   "metadata": {},
   "outputs": [
    {
     "name": "stdout",
     "output_type": "stream",
     "text": [
      "['sat']\n",
      "['Sat']\n"
     ]
    }
   ],
   "source": [
    "## Regex-2: Matches the beginning of the line - ^\n",
    "\n",
    "\n",
    "import regex as re\n",
    "\n",
    "# Define a function to tokenize text based on a regular expression pattern\n",
    "def tokenize(text):\n",
    "    # Find all matches of the pattern '^sat|Sat' in the text\n",
    "    # and return them as a list\n",
    "    return re.findall(r'^sat|Sat', text)\n",
    "\n",
    "# Test the function on two different inputs\n",
    "x = tokenize(\"saturday\")\n",
    "print(x)\n",
    "\n",
    "y = tokenize(\"Sat\")\n",
    "print(y)"
   ]
  },
  {
   "cell_type": "code",
   "execution_count": 23,
   "id": "530702bd",
   "metadata": {},
   "outputs": [
    {
     "name": "stdout",
     "output_type": "stream",
     "text": [
      "['Today', 'is', 'Saturday', 'April', '13', '2024']\n",
      "['Hello', 'everyone', 'welcome', 'to', 'GeeksforGeeks']\n"
     ]
    }
   ],
   "source": [
    "## Regex-3: Matches the ending of the line - $\n",
    "\n",
    "\n",
    "import re\n",
    "\n",
    "# Define a function to tokenize text based on a regular expression pattern\n",
    "def tokenize(text=\"Today is Saturday, April 13, 2024\"):\n",
    "    # Find all matches of the pattern '\\b\\w+\\b' in the text\n",
    "    return re.findall(r'\\b\\w+\\b', text)\n",
    "\n",
    "# Test the function on two different inputs\n",
    "x = tokenize()\n",
    "print(x)\n",
    "\n",
    "y = tokenize(\"Hello everyone, welcome to GeeksforGeeks!\")\n",
    "print(y)"
   ]
  },
  {
   "cell_type": "code",
   "execution_count": 24,
   "id": "4853246f",
   "metadata": {},
   "outputs": [
    {
     "name": "stdout",
     "output_type": "stream",
     "text": [
      "['This', 'is', 'a', 'sample', 'text']\n"
     ]
    }
   ],
   "source": [
    "## Regex-4: OR\n",
    "\n",
    "# Import the 'regex' module as 're'\n",
    "import regex as re\n",
    "def tokenize(text):\n",
    "    # Find all occurrences of whole words in the text using the regular expression '\\b\\w+\\b'\n",
    "    return re.findall(r'\\b\\w+\\b', text)\n",
    "\n",
    "# Test the function on a sample text\n",
    "x = tokenize(\"This is a sample text\")\n",
    "\n",
    "# Print the list of tokens\n",
    "print(x)"
   ]
  },
  {
   "cell_type": "code",
   "execution_count": 30,
   "id": "81c01888",
   "metadata": {},
   "outputs": [
    {
     "name": "stdout",
     "output_type": "stream",
     "text": [
      "['illy', 'illy', 'illy']\n"
     ]
    }
   ],
   "source": [
    "## Regex-5: *\n",
    "\n",
    "\n",
    "# Import the 'regex' module as 're'\n",
    "import regex as re\n",
    "\n",
    "# Define a function 'tokenize' that takes a string 'text' as input\n",
    "def tokenize(text):\n",
    "    # Find all occurrences of whole words in the text using the regular expression '\\b\\w+\\b'\n",
    "    return re.findall(r'illy*', text)\n",
    "\n",
    "# Test the function on a sample text\n",
    "x = tokenize(\"billy went to milly and silly\")\n",
    "\n",
    "# Print the list of tokens\n",
    "print(x)"
   ]
  },
  {
   "cell_type": "code",
   "execution_count": null,
   "id": "9540d802-00d2-41a7-a6bc-ee1fc868c957",
   "metadata": {},
   "outputs": [],
   "source": []
  }
 ],
 "metadata": {
  "kernelspec": {
   "display_name": "Python 3 (ipykernel)",
   "language": "python",
   "name": "python3"
  },
  "language_info": {
   "codemirror_mode": {
    "name": "ipython",
    "version": 3
   },
   "file_extension": ".py",
   "mimetype": "text/x-python",
   "name": "python",
   "nbconvert_exporter": "python",
   "pygments_lexer": "ipython3",
   "version": "3.11.7"
  }
 },
 "nbformat": 4,
 "nbformat_minor": 5
}
